{
 "cells": [
  {
   "cell_type": "markdown",
   "id": "07918a43-ed4d-47fc-8018-b8efa8214f31",
   "metadata": {},
   "source": [
    "# Module 1 Programming Assignment"
   ]
  },
  {
   "cell_type": "markdown",
   "id": "7a5adc63-decd-4694-b323-ecb30c49c035",
   "metadata": {},
   "source": [
    "## 3.1: Seconds in an Hour"
   ]
  },
  {
   "cell_type": "code",
   "execution_count": 1,
   "id": "9f8d6b78-87f9-457f-8ccd-fe75e0644f4f",
   "metadata": {},
   "outputs": [
    {
     "data": {
      "text/plain": [
       "3600"
      ]
     },
     "execution_count": 1,
     "metadata": {},
     "output_type": "execute_result"
    }
   ],
   "source": [
    "# Calculate seconds in an hour\n",
    "seconds_in_a_minute = 60\n",
    "minutes_in_an_hour = 60\n",
    "seconds_per_hour = seconds_in_a_minute * minutes_in_an_hour\n",
    "seconds_per_hour"
   ]
  },
  {
   "cell_type": "markdown",
   "id": "b53122ad-cd24-4b3c-a6fb-f155b1041304",
   "metadata": {},
   "source": [
    "## 3.2: Assign to `seconds_per_hour"
   ]
  },
  {
   "cell_type": "code",
   "execution_count": 3,
   "id": "331505d3-7187-4b19-9cf8-43fe6d4030b7",
   "metadata": {},
   "outputs": [
    {
     "data": {
      "text/plain": [
       "3600"
      ]
     },
     "execution_count": 3,
     "metadata": {},
     "output_type": "execute_result"
    }
   ],
   "source": [
    "# Variable already defined in section 3.1\n",
    "seconds_per_hour"
   ]
  },
  {
   "cell_type": "markdown",
   "id": "d4ca7e6f-9de2-4216-8cc8-6a3ec2fba9ea",
   "metadata": {},
   "source": [
    "## 3.3: Seconds in a Day\n",
    "How many seconds are in a day? Use the `seconds_per_hour` variable."
   ]
  },
  {
   "cell_type": "code",
   "execution_count": 5,
   "id": "7893fe81-e057-480c-b6b6-690d556ea82e",
   "metadata": {},
   "outputs": [
    {
     "data": {
      "text/plain": [
       "86400"
      ]
     },
     "execution_count": 5,
     "metadata": {},
     "output_type": "execute_result"
    }
   ],
   "source": [
    "# Calculate seconds in a day\n",
    "hours_in_a_day = 24\n",
    "seconds_per_day = seconds_per_hour * hours_in_a_day\n",
    "seconds_per_day"
   ]
  },
  {
   "cell_type": "markdown",
   "id": "ae69e204-a8e5-474c-a3fc-88e33e6e63e8",
   "metadata": {},
   "source": [
    "## 3.4: Save `seconds_per_day`\n",
    "Calculate seconds per day again, but this time save the result in a variable called `seconds_per_day`."
   ]
  },
  {
   "cell_type": "code",
   "execution_count": 7,
   "id": "5fc7a411-bc42-4b79-a827-b4260b3fc3b2",
   "metadata": {},
   "outputs": [
    {
     "data": {
      "text/plain": [
       "86400"
      ]
     },
     "execution_count": 7,
     "metadata": {},
     "output_type": "execute_result"
    }
   ],
   "source": [
    "# Variable seconds_per_day already defined\n",
    "seconds_per_day"
   ]
  },
  {
   "cell_type": "markdown",
   "id": "2deacde4-ad44-4ac6-b425-d6a84ca6df0e",
   "metadata": {},
   "source": [
    "## 3.5: Floating-Point Division\n",
    "Divide `seconds_per_day` by `seconds_per_hour` using floating-point division (`/`)."
   ]
  },
  {
   "cell_type": "code",
   "execution_count": 9,
   "id": "89922f4c-3988-4fc1-9f2c-c12bdade2775",
   "metadata": {},
   "outputs": [
    {
     "data": {
      "text/plain": [
       "24.0"
      ]
     },
     "execution_count": 9,
     "metadata": {},
     "output_type": "execute_result"
    }
   ],
   "source": [
    "# Floating-point division\n",
    "floating_point_division = seconds_per_day / seconds_per_hour\n",
    "floating_point_division"
   ]
  },
  {
   "cell_type": "markdown",
   "id": "bcd6456d-362e-4f35-bf78-d8b79e51f1d3",
   "metadata": {},
   "source": [
    "## 3.6: Integer Division\n",
    "Divide `seconds_per_day` by `seconds_per_hour` using integer division (`//`). Did this number agree with the floating-point value from the previous question, aside from the final `.0`?"
   ]
  },
  {
   "cell_type": "code",
   "execution_count": 11,
   "id": "56616c47-b071-4095-9325-780a40419fb7",
   "metadata": {},
   "outputs": [
    {
     "data": {
      "text/plain": [
       "24"
      ]
     },
     "execution_count": 11,
     "metadata": {},
     "output_type": "execute_result"
    }
   ],
   "source": [
    "# Integer division\n",
    "integer_division = seconds_per_day // seconds_per_hour\n",
    "integer_division"
   ]
  },
  {
   "cell_type": "code",
   "execution_count": null,
   "id": "caec9a4f-5663-49d8-8424-cb76bf41863b",
   "metadata": {},
   "outputs": [],
   "source": []
  }
 ],
 "metadata": {
  "kernelspec": {
   "display_name": "Python 3 (ipykernel)",
   "language": "python",
   "name": "python3"
  },
  "language_info": {
   "codemirror_mode": {
    "name": "ipython",
    "version": 3
   },
   "file_extension": ".py",
   "mimetype": "text/x-python",
   "name": "python",
   "nbconvert_exporter": "python",
   "pygments_lexer": "ipython3",
   "version": "3.12.7"
  }
 },
 "nbformat": 4,
 "nbformat_minor": 5
}
